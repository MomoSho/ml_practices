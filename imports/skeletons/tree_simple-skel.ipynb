{
 "cells": [
  {
   "cell_type": "markdown",
   "metadata": {},
   "source": [
    "# Decision Tree Classification\n",
    "## CS/DSA 5970"
   ]
  },
  {
   "cell_type": "code",
   "execution_count": null,
   "metadata": {},
   "outputs": [],
   "source": [
    "import pandas as pd\n",
    "import numpy as np\n",
    "import re\n",
    "import matplotlib.pyplot as plt\n",
    "from sklearn.pipeline import Pipeline\n",
    "from sklearn.preprocessing import StandardScaler\n",
    "from sklearn.model_selection import cross_val_score\n",
    "from sklearn.model_selection import cross_val_predict\n",
    "from sklearn.metrics import mean_squared_error\n",
    "from sklearn.metrics import confusion_matrix\n",
    "from sklearn.metrics import log_loss\n",
    "from sklearn.metrics import roc_curve, auc\n",
    "from sklearn.base import BaseEstimator, TransformerMixin\n",
    "from sklearn.linear_model import SGDClassifier, LogisticRegression\n",
    "from sklearn.ensemble import RandomForestClassifier\n",
    "from sklearn.svm import SVC\n",
    "from sklearn.tree import DecisionTreeClassifier\n",
    "from sklearn.tree import DecisionTreeRegressor, export_graphviz\n",
    "\n",
    "import pickle as pkl\n",
    "\n",
    "##################\n",
    "# Default parameters\n",
    "FIGURESIZE=(10,6)\n",
    "FONTSIZE=18\n",
    "\n",
    "plt.rcParams['figure.figsize'] = FIGURESIZE\n",
    "plt.rcParams['font.size'] = FONTSIZE\n",
    "\n",
    "plt.rcParams['xtick.labelsize'] = 18\n",
    "plt.rcParams['ytick.labelsize'] = 18"
   ]
  },
  {
   "cell_type": "code",
   "execution_count": null,
   "metadata": {},
   "outputs": [],
   "source": [
    "def scatter_plot(ins, pred):\n",
    "    elems_true = np.where(pred == 1)[0]\n",
    "    elems_false = np.where(pred == 0)[0]\n",
    "    \n",
    "    fig, ax = plt.subplots(figsize=FIGURESIZE)\n",
    "    ax.plot(ins[elems_true,0], ins[elems_true,1], 'r.')\n",
    "    ax.plot(ins[elems_false,0], ins[elems_false,1], 'g.')\n",
    "    fig.legend(['Positive', 'Negative'], fontsize=18)\n",
    "    plt.xlabel('x[0]', fontsize=FONTSIZE)\n",
    "    plt.ylabel('x[1]', fontsize=FONTSIZE)"
   ]
  },
  {
   "cell_type": "code",
   "execution_count": null,
   "metadata": {},
   "outputs": [],
   "source": [
    "def plot_probs(outs, proba):\n",
    "    pred = proba[:,0] >= 0.5\n",
    "    confusion = confusion_matrix(outs, pred)\n",
    "    print(\"Confusion:\", confusion)\n",
    "    \n",
    "    # Evaluate\n",
    "    print(\"log loss: \", log_loss(outs, proba))\n",
    "    \n",
    "    # TPR/FPR plot\n",
    "    fpr, tpr, thresholds = roc_curve(outs, proba[:,0])\n",
    "    fig, ax = plt.subplots(figsize=FIGURESIZE)\n",
    "    ax.plot(thresholds, tpr, color='b')\n",
    "    ax.plot(thresholds, fpr, color='r')\n",
    "    ax.plot(thresholds, tpr - fpr, color='g')\n",
    "    ax.invert_xaxis()\n",
    "    ax.set_xlabel('threshold', fontsize=FONTSIZE)\n",
    "    ax.set_ylabel('fraction', fontsize=FONTSIZE)\n",
    "    ax.legend(['TPR', 'FPR', 'distance'], fontsize=FONTSIZE)\n",
    "    \n",
    "    # ROC plot\n",
    "    fig, ax = plt.subplots(figsize=FIGURESIZE)\n",
    "    ax.plot(fpr, tpr, color='b')\n",
    "    ax.plot([0,1], [0,1], 'r--')\n",
    "    ax.set_xlabel('FPR', fontsize=FONTSIZE)\n",
    "    ax.set_ylabel('TPR', fontsize=FONTSIZE)\n",
    "    ax.set_aspect('equal', 'box')\n",
    "    print(\"AUC:\", auc(fpr, tpr))"
   ]
  },
  {
   "cell_type": "markdown",
   "metadata": {},
   "source": [
    "## Load data"
   ]
  },
  {
   "cell_type": "code",
   "execution_count": null,
   "metadata": {},
   "outputs": [],
   "source": [
    "fname = '../ml_practices/imports/datasets/misc/classification_data.pkl'\n",
    "fp = open(fname, 'rb')\n",
    "ins = pkl.load(fp)\n",
    "outs = pkl.load(fp)\n",
    "fp.close()"
   ]
  },
  {
   "cell_type": "code",
   "execution_count": null,
   "metadata": {},
   "outputs": [],
   "source": []
  },
  {
   "cell_type": "markdown",
   "metadata": {},
   "source": [
    "## Decision Tree Classifier"
   ]
  },
  {
   "cell_type": "code",
   "execution_count": null,
   "metadata": {},
   "outputs": [],
   "source": []
  },
  {
   "cell_type": "code",
   "execution_count": null,
   "metadata": {},
   "outputs": [],
   "source": [
    "pred = cross_val_predict(classifier, ins, outs, cv=10)\n",
    "confusion = confusion_matrix(outs, pred)\n",
    "confusion"
   ]
  },
  {
   "cell_type": "code",
   "execution_count": null,
   "metadata": {},
   "outputs": [],
   "source": []
  },
  {
   "cell_type": "code",
   "execution_count": null,
   "metadata": {},
   "outputs": [],
   "source": [
    "proba = cross_val_predict(classifier, ins, outs, cv=10, method='predict_proba')\n",
    "proba = 1 - proba"
   ]
  },
  {
   "cell_type": "code",
   "execution_count": null,
   "metadata": {},
   "outputs": [],
   "source": []
  },
  {
   "cell_type": "code",
   "execution_count": null,
   "metadata": {},
   "outputs": [],
   "source": [
    "classifier.fit(ins, outs)\n",
    "pred = classifier.predict(ins)\n",
    "scatter_plot(ins, pred)\n",
    "export_graphviz(classifier, out_file='model.dot', rounded=True, filled=True)"
   ]
  },
  {
   "cell_type": "code",
   "execution_count": null,
   "metadata": {},
   "outputs": [],
   "source": []
  },
  {
   "cell_type": "code",
   "execution_count": null,
   "metadata": {},
   "outputs": [],
   "source": []
  }
 ],
 "metadata": {
  "kernelspec": {
   "display_name": "Python 3",
   "language": "python",
   "name": "python3"
  },
  "language_info": {
   "codemirror_mode": {
    "name": "ipython",
    "version": 3
   },
   "file_extension": ".py",
   "mimetype": "text/x-python",
   "name": "python",
   "nbconvert_exporter": "python",
   "pygments_lexer": "ipython3",
   "version": "3.5.2"
  }
 },
 "nbformat": 4,
 "nbformat_minor": 2
}
