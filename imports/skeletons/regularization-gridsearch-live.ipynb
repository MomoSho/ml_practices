{
 "cells": [
  {
   "cell_type": "markdown",
   "metadata": {},
   "source": [
    "# Regularization and Grid Search\n",
    "## CS5970:  Machine Learning Practice"
   ]
  },
  {
   "cell_type": "code",
   "execution_count": 1,
   "metadata": {},
   "outputs": [],
   "source": [
    "import pandas as pd\n",
    "import numpy as np\n",
    "import os\n",
    "import fnmatch\n",
    "import math\n",
    "import matplotlib.pyplot as plt\n",
    "from sklearn.preprocessing import StandardScaler, PolynomialFeatures\n",
    "from sklearn.model_selection import cross_val_score\n",
    "from sklearn.model_selection import cross_val_predict\n",
    "from sklearn.model_selection import GridSearchCV \n",
    "\n",
    "from sklearn.metrics import mean_squared_error\n",
    "from sklearn.linear_model import LinearRegression\n",
    "from sklearn.linear_model import Ridge\n",
    "from sklearn.linear_model import Lasso\n",
    "from sklearn.linear_model import ElasticNet\n",
    "from sklearn.linear_model import SGDRegressor\n",
    "from sklearn.ensemble import GradientBoostingRegressor\n",
    "from pandas import DataFrame\n",
    "from matplotlib.colors import Colormap\n",
    "\n",
    "##################\n",
    "# Default parameters\n",
    "FIGURESIZE=(12,6)\n",
    "FONTSIZE=18\n",
    "\n",
    "plt.rcParams['figure.figsize'] = FIGURESIZE\n",
    "plt.rcParams['font.size'] = FONTSIZE\n",
    "\n",
    "plt.rcParams['xtick.labelsize'] = FONTSIZE\n",
    "plt.rcParams['ytick.labelsize'] = FONTSIZE"
   ]
  },
  {
   "cell_type": "code",
   "execution_count": 2,
   "metadata": {},
   "outputs": [],
   "source": [
    "####################\n",
    "# File loading\n",
    "def read_bmi_file_set(directory, filebase):\n",
    "    '''\n",
    "    Read a set of CSV files and append them together\n",
    "    :param directory: The directory in which to scan for the CSV files\n",
    "    :param filebase: A file specification that potentially includes wildcards\n",
    "    :returns: A list of Numpy arrays (one for each fold)\n",
    "    '''\n",
    "    \n",
    "    # The set of files in the directory\n",
    "    files = fnmatch.filter(os.listdir(directory), filebase)\n",
    "    files.sort()\n",
    "\n",
    "    # Create a list of Pandas objects; each object is from a file in the directory that matches filebase\n",
    "    lst = [pd.read_csv(directory + \"/\" + file, delim_whitespace=True).values for file in files]\n",
    "    \n",
    "    # Concatenate the Pandas objects together.  ignore_index is critical here so that\n",
    "    # the duplicate row indices are addressed\n",
    "    return lst"
   ]
  },
  {
   "cell_type": "code",
   "execution_count": 3,
   "metadata": {},
   "outputs": [],
   "source": [
    "####################\n",
    "# File loading\n",
    "def read_bmi_file_set(directory, filebase):\n",
    "    '''\n",
    "    Read a set of CSV files and append them together\n",
    "    :param directory: The directory in which to scan for the CSV files\n",
    "    :param filebase: A file specification that potentially includes wildcards\n",
    "    :returns: A list of Numpy arrays (one for each fold)\n",
    "    '''\n",
    "    \n",
    "    # The set of files in the directory\n",
    "    files = fnmatch.filter(os.listdir(directory), filebase)\n",
    "    files.sort()\n",
    "\n",
    "    # Create a list of Pandas objects; each object is from a file in the directory that matches filebase\n",
    "    lst = [pd.read_csv(directory + \"/\" + file, delim_whitespace=True).values for file in files]\n",
    "    \n",
    "    # Concatenate the Pandas objects together.  ignore_index is critical here so that\n",
    "    # the duplicate row indices are addressed\n",
    "    return lst"
   ]
  },
  {
   "cell_type": "code",
   "execution_count": 4,
   "metadata": {},
   "outputs": [],
   "source": [
    "def my_eval(outs, pred):\n",
    "    mse = np.sum(np.square(outs - pred)) / outs.shape[0]\n",
    "    rmse = np.sqrt(mse)\n",
    "    return mse, rmse, rmse * 180 / np.pi"
   ]
  },
  {
   "cell_type": "code",
   "execution_count": 5,
   "metadata": {},
   "outputs": [],
   "source": [
    "# Loads all folds\n",
    "\n",
    "dir_name = '../ml_practices/imports/datasets/bmi/DAT6_08'\n",
    "MI_folds = read_bmi_file_set(dir_name, 'MI_fold*')\n",
    "theta_folds = read_bmi_file_set(dir_name, 'theta_fold*')\n",
    "dtheta_folds = read_bmi_file_set(dir_name, 'dtheta_fold*')\n",
    "torque_folds = read_bmi_file_set(dir_name, 'torque_fold*')\n",
    "time_folds = read_bmi_file_set(dir_name, 'time_fold*')"
   ]
  },
  {
   "cell_type": "code",
   "execution_count": 6,
   "metadata": {},
   "outputs": [],
   "source": [
    "ins = MI_folds[0]\n",
    "tm = time_folds[0]\n",
    "outs_p = theta_folds[0]"
   ]
  },
  {
   "cell_type": "markdown",
   "metadata": {},
   "source": [
    "## Grid Search"
   ]
  },
  {
   "cell_type": "code",
   "execution_count": 7,
   "metadata": {},
   "outputs": [],
   "source": [
    "# Shoulder position\n",
    "outs = outs_p[:,0]\n",
    "ins = MI_folds[0]\n",
    "tm = time_folds[0]"
   ]
  },
  {
   "cell_type": "code",
   "execution_count": 10,
   "metadata": {},
   "outputs": [],
   "source": [
    "model = Ridge()\n",
    "\n",
    "param_grid = [{'alpha': [1, 10, 100, 1000, 10000]}]"
   ]
  },
  {
   "cell_type": "code",
   "execution_count": 11,
   "metadata": {},
   "outputs": [],
   "source": [
    "grid_search = GridSearchCV(model, param_grid, cv=20, scoring = 'neg_mean_squared_error')"
   ]
  },
  {
   "cell_type": "code",
   "execution_count": 12,
   "metadata": {},
   "outputs": [
    {
     "data": {
      "text/plain": [
       "GridSearchCV(cv=20, error_score='raise-deprecating',\n",
       "       estimator=Ridge(alpha=1.0, copy_X=True, fit_intercept=True, max_iter=None,\n",
       "   normalize=False, random_state=None, solver='auto', tol=0.001),\n",
       "       fit_params=None, iid='warn', n_jobs=None,\n",
       "       param_grid=[{'alpha': [1, 10, 100, 1000, 10000]}],\n",
       "       pre_dispatch='2*n_jobs', refit=True, return_train_score='warn',\n",
       "       scoring='neg_mean_squared_error', verbose=0)"
      ]
     },
     "execution_count": 12,
     "metadata": {},
     "output_type": "execute_result"
    }
   ],
   "source": [
    "grid_search.fit(ins, outs)"
   ]
  },
  {
   "cell_type": "code",
   "execution_count": 13,
   "metadata": {},
   "outputs": [
    {
     "data": {
      "text/plain": [
       "{'alpha': 1000}"
      ]
     },
     "execution_count": 13,
     "metadata": {},
     "output_type": "execute_result"
    }
   ],
   "source": [
    "grid_search.best_params_"
   ]
  },
  {
   "cell_type": "code",
   "execution_count": 14,
   "metadata": {},
   "outputs": [],
   "source": [
    "stats = grid_search.cv_results_"
   ]
  },
  {
   "cell_type": "code",
   "execution_count": 15,
   "metadata": {},
   "outputs": [
    {
     "name": "stderr",
     "output_type": "stream",
     "text": [
      "/home/fagg/python/env/tensorflow-cpu/lib/python3.5/site-packages/sklearn/utils/deprecation.py:125: FutureWarning: You are accessing a training score ('split14_train_score'), which will not be available by default any more in 0.21. If you need training scores, please set return_train_score=True\n",
      "  warnings.warn(*warn_args, **warn_kwargs)\n",
      "/home/fagg/python/env/tensorflow-cpu/lib/python3.5/site-packages/sklearn/utils/deprecation.py:125: FutureWarning: You are accessing a training score ('split15_train_score'), which will not be available by default any more in 0.21. If you need training scores, please set return_train_score=True\n",
      "  warnings.warn(*warn_args, **warn_kwargs)\n",
      "/home/fagg/python/env/tensorflow-cpu/lib/python3.5/site-packages/sklearn/utils/deprecation.py:125: FutureWarning: You are accessing a training score ('split0_train_score'), which will not be available by default any more in 0.21. If you need training scores, please set return_train_score=True\n",
      "  warnings.warn(*warn_args, **warn_kwargs)\n",
      "/home/fagg/python/env/tensorflow-cpu/lib/python3.5/site-packages/sklearn/utils/deprecation.py:125: FutureWarning: You are accessing a training score ('split1_train_score'), which will not be available by default any more in 0.21. If you need training scores, please set return_train_score=True\n",
      "  warnings.warn(*warn_args, **warn_kwargs)\n",
      "/home/fagg/python/env/tensorflow-cpu/lib/python3.5/site-packages/sklearn/utils/deprecation.py:125: FutureWarning: You are accessing a training score ('split13_train_score'), which will not be available by default any more in 0.21. If you need training scores, please set return_train_score=True\n",
      "  warnings.warn(*warn_args, **warn_kwargs)\n",
      "/home/fagg/python/env/tensorflow-cpu/lib/python3.5/site-packages/sklearn/utils/deprecation.py:125: FutureWarning: You are accessing a training score ('split12_train_score'), which will not be available by default any more in 0.21. If you need training scores, please set return_train_score=True\n",
      "  warnings.warn(*warn_args, **warn_kwargs)\n",
      "/home/fagg/python/env/tensorflow-cpu/lib/python3.5/site-packages/sklearn/utils/deprecation.py:125: FutureWarning: You are accessing a training score ('split6_train_score'), which will not be available by default any more in 0.21. If you need training scores, please set return_train_score=True\n",
      "  warnings.warn(*warn_args, **warn_kwargs)\n",
      "/home/fagg/python/env/tensorflow-cpu/lib/python3.5/site-packages/sklearn/utils/deprecation.py:125: FutureWarning: You are accessing a training score ('mean_train_score'), which will not be available by default any more in 0.21. If you need training scores, please set return_train_score=True\n",
      "  warnings.warn(*warn_args, **warn_kwargs)\n",
      "/home/fagg/python/env/tensorflow-cpu/lib/python3.5/site-packages/sklearn/utils/deprecation.py:125: FutureWarning: You are accessing a training score ('split11_train_score'), which will not be available by default any more in 0.21. If you need training scores, please set return_train_score=True\n",
      "  warnings.warn(*warn_args, **warn_kwargs)\n",
      "/home/fagg/python/env/tensorflow-cpu/lib/python3.5/site-packages/sklearn/utils/deprecation.py:125: FutureWarning: You are accessing a training score ('split8_train_score'), which will not be available by default any more in 0.21. If you need training scores, please set return_train_score=True\n",
      "  warnings.warn(*warn_args, **warn_kwargs)\n",
      "/home/fagg/python/env/tensorflow-cpu/lib/python3.5/site-packages/sklearn/utils/deprecation.py:125: FutureWarning: You are accessing a training score ('split3_train_score'), which will not be available by default any more in 0.21. If you need training scores, please set return_train_score=True\n",
      "  warnings.warn(*warn_args, **warn_kwargs)\n",
      "/home/fagg/python/env/tensorflow-cpu/lib/python3.5/site-packages/sklearn/utils/deprecation.py:125: FutureWarning: You are accessing a training score ('split18_train_score'), which will not be available by default any more in 0.21. If you need training scores, please set return_train_score=True\n",
      "  warnings.warn(*warn_args, **warn_kwargs)\n",
      "/home/fagg/python/env/tensorflow-cpu/lib/python3.5/site-packages/sklearn/utils/deprecation.py:125: FutureWarning: You are accessing a training score ('split16_train_score'), which will not be available by default any more in 0.21. If you need training scores, please set return_train_score=True\n",
      "  warnings.warn(*warn_args, **warn_kwargs)\n",
      "/home/fagg/python/env/tensorflow-cpu/lib/python3.5/site-packages/sklearn/utils/deprecation.py:125: FutureWarning: You are accessing a training score ('split5_train_score'), which will not be available by default any more in 0.21. If you need training scores, please set return_train_score=True\n",
      "  warnings.warn(*warn_args, **warn_kwargs)\n",
      "/home/fagg/python/env/tensorflow-cpu/lib/python3.5/site-packages/sklearn/utils/deprecation.py:125: FutureWarning: You are accessing a training score ('split7_train_score'), which will not be available by default any more in 0.21. If you need training scores, please set return_train_score=True\n",
      "  warnings.warn(*warn_args, **warn_kwargs)\n",
      "/home/fagg/python/env/tensorflow-cpu/lib/python3.5/site-packages/sklearn/utils/deprecation.py:125: FutureWarning: You are accessing a training score ('split2_train_score'), which will not be available by default any more in 0.21. If you need training scores, please set return_train_score=True\n",
      "  warnings.warn(*warn_args, **warn_kwargs)\n",
      "/home/fagg/python/env/tensorflow-cpu/lib/python3.5/site-packages/sklearn/utils/deprecation.py:125: FutureWarning: You are accessing a training score ('split9_train_score'), which will not be available by default any more in 0.21. If you need training scores, please set return_train_score=True\n",
      "  warnings.warn(*warn_args, **warn_kwargs)\n",
      "/home/fagg/python/env/tensorflow-cpu/lib/python3.5/site-packages/sklearn/utils/deprecation.py:125: FutureWarning: You are accessing a training score ('split17_train_score'), which will not be available by default any more in 0.21. If you need training scores, please set return_train_score=True\n",
      "  warnings.warn(*warn_args, **warn_kwargs)\n",
      "/home/fagg/python/env/tensorflow-cpu/lib/python3.5/site-packages/sklearn/utils/deprecation.py:125: FutureWarning: You are accessing a training score ('split4_train_score'), which will not be available by default any more in 0.21. If you need training scores, please set return_train_score=True\n",
      "  warnings.warn(*warn_args, **warn_kwargs)\n",
      "/home/fagg/python/env/tensorflow-cpu/lib/python3.5/site-packages/sklearn/utils/deprecation.py:125: FutureWarning: You are accessing a training score ('split10_train_score'), which will not be available by default any more in 0.21. If you need training scores, please set return_train_score=True\n",
      "  warnings.warn(*warn_args, **warn_kwargs)\n",
      "/home/fagg/python/env/tensorflow-cpu/lib/python3.5/site-packages/sklearn/utils/deprecation.py:125: FutureWarning: You are accessing a training score ('split19_train_score'), which will not be available by default any more in 0.21. If you need training scores, please set return_train_score=True\n",
      "  warnings.warn(*warn_args, **warn_kwargs)\n",
      "/home/fagg/python/env/tensorflow-cpu/lib/python3.5/site-packages/sklearn/utils/deprecation.py:125: FutureWarning: You are accessing a training score ('std_train_score'), which will not be available by default any more in 0.21. If you need training scores, please set return_train_score=True\n",
      "  warnings.warn(*warn_args, **warn_kwargs)\n"
     ]
    }
   ],
   "source": [
    "df = DataFrame(stats)"
   ]
  },
  {
   "cell_type": "code",
   "execution_count": 16,
   "metadata": {},
   "outputs": [
    {
     "data": {
      "text/html": [
       "<div>\n",
       "<style scoped>\n",
       "    .dataframe tbody tr th:only-of-type {\n",
       "        vertical-align: middle;\n",
       "    }\n",
       "\n",
       "    .dataframe tbody tr th {\n",
       "        vertical-align: top;\n",
       "    }\n",
       "\n",
       "    .dataframe thead th {\n",
       "        text-align: right;\n",
       "    }\n",
       "</style>\n",
       "<table border=\"1\" class=\"dataframe\">\n",
       "  <thead>\n",
       "    <tr style=\"text-align: right;\">\n",
       "      <th></th>\n",
       "      <th>mean_fit_time</th>\n",
       "      <th>mean_score_time</th>\n",
       "      <th>mean_test_score</th>\n",
       "      <th>mean_train_score</th>\n",
       "      <th>param_alpha</th>\n",
       "      <th>params</th>\n",
       "      <th>rank_test_score</th>\n",
       "      <th>split0_test_score</th>\n",
       "      <th>split0_train_score</th>\n",
       "      <th>split10_test_score</th>\n",
       "      <th>...</th>\n",
       "      <th>split7_test_score</th>\n",
       "      <th>split7_train_score</th>\n",
       "      <th>split8_test_score</th>\n",
       "      <th>split8_train_score</th>\n",
       "      <th>split9_test_score</th>\n",
       "      <th>split9_train_score</th>\n",
       "      <th>std_fit_time</th>\n",
       "      <th>std_score_time</th>\n",
       "      <th>std_test_score</th>\n",
       "      <th>std_train_score</th>\n",
       "    </tr>\n",
       "  </thead>\n",
       "  <tbody>\n",
       "    <tr>\n",
       "      <th>0</th>\n",
       "      <td>0.119149</td>\n",
       "      <td>0.003621</td>\n",
       "      <td>-0.063572</td>\n",
       "      <td>-0.001632</td>\n",
       "      <td>1</td>\n",
       "      <td>{'alpha': 1}</td>\n",
       "      <td>5</td>\n",
       "      <td>-0.073231</td>\n",
       "      <td>-0.001558</td>\n",
       "      <td>-0.042204</td>\n",
       "      <td>...</td>\n",
       "      <td>-0.093975</td>\n",
       "      <td>-0.001590</td>\n",
       "      <td>-0.053629</td>\n",
       "      <td>-0.001699</td>\n",
       "      <td>-0.051552</td>\n",
       "      <td>-0.001690</td>\n",
       "      <td>0.033207</td>\n",
       "      <td>0.005783</td>\n",
       "      <td>0.016990</td>\n",
       "      <td>0.000098</td>\n",
       "    </tr>\n",
       "    <tr>\n",
       "      <th>1</th>\n",
       "      <td>0.128945</td>\n",
       "      <td>0.006516</td>\n",
       "      <td>-0.037050</td>\n",
       "      <td>-0.002086</td>\n",
       "      <td>10</td>\n",
       "      <td>{'alpha': 10}</td>\n",
       "      <td>4</td>\n",
       "      <td>-0.035209</td>\n",
       "      <td>-0.002065</td>\n",
       "      <td>-0.010906</td>\n",
       "      <td>...</td>\n",
       "      <td>-0.056283</td>\n",
       "      <td>-0.002042</td>\n",
       "      <td>-0.039774</td>\n",
       "      <td>-0.002104</td>\n",
       "      <td>-0.031110</td>\n",
       "      <td>-0.002156</td>\n",
       "      <td>0.040701</td>\n",
       "      <td>0.008830</td>\n",
       "      <td>0.013649</td>\n",
       "      <td>0.000118</td>\n",
       "    </tr>\n",
       "    <tr>\n",
       "      <th>2</th>\n",
       "      <td>0.122596</td>\n",
       "      <td>0.006143</td>\n",
       "      <td>-0.021706</td>\n",
       "      <td>-0.003730</td>\n",
       "      <td>100</td>\n",
       "      <td>{'alpha': 100}</td>\n",
       "      <td>2</td>\n",
       "      <td>-0.016743</td>\n",
       "      <td>-0.003782</td>\n",
       "      <td>-0.005307</td>\n",
       "      <td>...</td>\n",
       "      <td>-0.032840</td>\n",
       "      <td>-0.003635</td>\n",
       "      <td>-0.026691</td>\n",
       "      <td>-0.003602</td>\n",
       "      <td>-0.025175</td>\n",
       "      <td>-0.003781</td>\n",
       "      <td>0.033471</td>\n",
       "      <td>0.009410</td>\n",
       "      <td>0.010993</td>\n",
       "      <td>0.000184</td>\n",
       "    </tr>\n",
       "    <tr>\n",
       "      <th>3</th>\n",
       "      <td>0.121438</td>\n",
       "      <td>0.002761</td>\n",
       "      <td>-0.018390</td>\n",
       "      <td>-0.009037</td>\n",
       "      <td>1000</td>\n",
       "      <td>{'alpha': 1000}</td>\n",
       "      <td>1</td>\n",
       "      <td>-0.011744</td>\n",
       "      <td>-0.009162</td>\n",
       "      <td>-0.008086</td>\n",
       "      <td>...</td>\n",
       "      <td>-0.025331</td>\n",
       "      <td>-0.008888</td>\n",
       "      <td>-0.017335</td>\n",
       "      <td>-0.008935</td>\n",
       "      <td>-0.028552</td>\n",
       "      <td>-0.008834</td>\n",
       "      <td>0.032701</td>\n",
       "      <td>0.005213</td>\n",
       "      <td>0.012920</td>\n",
       "      <td>0.000298</td>\n",
       "    </tr>\n",
       "    <tr>\n",
       "      <th>4</th>\n",
       "      <td>0.136945</td>\n",
       "      <td>0.003036</td>\n",
       "      <td>-0.027176</td>\n",
       "      <td>-0.022823</td>\n",
       "      <td>10000</td>\n",
       "      <td>{'alpha': 10000}</td>\n",
       "      <td>3</td>\n",
       "      <td>-0.021245</td>\n",
       "      <td>-0.023113</td>\n",
       "      <td>-0.014134</td>\n",
       "      <td>...</td>\n",
       "      <td>-0.040151</td>\n",
       "      <td>-0.022518</td>\n",
       "      <td>-0.025831</td>\n",
       "      <td>-0.022941</td>\n",
       "      <td>-0.046310</td>\n",
       "      <td>-0.022317</td>\n",
       "      <td>0.042528</td>\n",
       "      <td>0.004710</td>\n",
       "      <td>0.017795</td>\n",
       "      <td>0.000679</td>\n",
       "    </tr>\n",
       "  </tbody>\n",
       "</table>\n",
       "<p>5 rows × 51 columns</p>\n",
       "</div>"
      ],
      "text/plain": [
       "   mean_fit_time  mean_score_time  mean_test_score  mean_train_score  \\\n",
       "0       0.119149         0.003621        -0.063572         -0.001632   \n",
       "1       0.128945         0.006516        -0.037050         -0.002086   \n",
       "2       0.122596         0.006143        -0.021706         -0.003730   \n",
       "3       0.121438         0.002761        -0.018390         -0.009037   \n",
       "4       0.136945         0.003036        -0.027176         -0.022823   \n",
       "\n",
       "  param_alpha            params  rank_test_score  split0_test_score  \\\n",
       "0           1      {'alpha': 1}                5          -0.073231   \n",
       "1          10     {'alpha': 10}                4          -0.035209   \n",
       "2         100    {'alpha': 100}                2          -0.016743   \n",
       "3        1000   {'alpha': 1000}                1          -0.011744   \n",
       "4       10000  {'alpha': 10000}                3          -0.021245   \n",
       "\n",
       "   split0_train_score  split10_test_score  ...  split7_test_score  \\\n",
       "0           -0.001558           -0.042204  ...          -0.093975   \n",
       "1           -0.002065           -0.010906  ...          -0.056283   \n",
       "2           -0.003782           -0.005307  ...          -0.032840   \n",
       "3           -0.009162           -0.008086  ...          -0.025331   \n",
       "4           -0.023113           -0.014134  ...          -0.040151   \n",
       "\n",
       "   split7_train_score  split8_test_score  split8_train_score  \\\n",
       "0           -0.001590          -0.053629           -0.001699   \n",
       "1           -0.002042          -0.039774           -0.002104   \n",
       "2           -0.003635          -0.026691           -0.003602   \n",
       "3           -0.008888          -0.017335           -0.008935   \n",
       "4           -0.022518          -0.025831           -0.022941   \n",
       "\n",
       "   split9_test_score  split9_train_score  std_fit_time  std_score_time  \\\n",
       "0          -0.051552           -0.001690      0.033207        0.005783   \n",
       "1          -0.031110           -0.002156      0.040701        0.008830   \n",
       "2          -0.025175           -0.003781      0.033471        0.009410   \n",
       "3          -0.028552           -0.008834      0.032701        0.005213   \n",
       "4          -0.046310           -0.022317      0.042528        0.004710   \n",
       "\n",
       "   std_test_score  std_train_score  \n",
       "0        0.016990         0.000098  \n",
       "1        0.013649         0.000118  \n",
       "2        0.010993         0.000184  \n",
       "3        0.012920         0.000298  \n",
       "4        0.017795         0.000679  \n",
       "\n",
       "[5 rows x 51 columns]"
      ]
     },
     "execution_count": 16,
     "metadata": {},
     "output_type": "execute_result"
    }
   ],
   "source": [
    "df"
   ]
  },
  {
   "cell_type": "code",
   "execution_count": 17,
   "metadata": {},
   "outputs": [],
   "source": [
    "scores = np.sqrt(-stats[\"mean_test_score\"])"
   ]
  },
  {
   "cell_type": "code",
   "execution_count": 18,
   "metadata": {},
   "outputs": [
    {
     "data": {
      "text/plain": [
       "array([0.2521343 , 0.19248304, 0.14733004, 0.13561009, 0.16485232])"
      ]
     },
     "execution_count": 18,
     "metadata": {},
     "output_type": "execute_result"
    }
   ],
   "source": [
    "scores"
   ]
  },
  {
   "cell_type": "code",
   "execution_count": 28,
   "metadata": {},
   "outputs": [
    {
     "data": {
      "text/plain": [
       "[<matplotlib.lines.Line2D at 0x7f7d85baf9b0>]"
      ]
     },
     "execution_count": 28,
     "metadata": {},
     "output_type": "execute_result"
    },
    {
     "data": {
      "image/png": "[encoded data removed]",
      "text/plain": [
       "<Figure size 432x288 with 1 Axes>"
      ]
     },
     "metadata": {
      "needs_background": "light"
     },
     "output_type": "display_data"
    }
   ],
   "source": [
    "alphas = stats[\"param_alpha\"].data\n",
    "\n",
    "plt.figure()\n",
    "plt.plot(alphas, scores, 'g')"
   ]
  },
  {
   "cell_type": "markdown",
   "metadata": {},
   "source": [
    "## More focused search"
   ]
  },
  {
   "cell_type": "code",
   "execution_count": 38,
   "metadata": {},
   "outputs": [],
   "source": [
    "base = 2\n",
    "steps = 20\n",
    "bottom = math.log(100, base)\n",
    "top = math.log(2000, base)\n",
    "exps = np.arange(bottom, top, (top-bottom)/steps)\n",
    "alphas = [np.power(base, ex) for ex in exps]"
   ]
  },
  {
   "cell_type": "code",
   "execution_count": 39,
   "metadata": {},
   "outputs": [
    {
     "data": {
      "text/plain": [
       "[100.00000000000004,\n",
       " 116.15863496415427,\n",
       " 134.9282847673564,\n",
       " 156.730853766308,\n",
       " 182.05642030260807,\n",
       " 211.47425268811287,\n",
       " 245.64560522315816,\n",
       " 285.33858187665567,\n",
       " 331.4454017339988,\n",
       " 385.0024543056701,\n",
       " 447.213595499958,\n",
       " 519.4772079068655,\n",
       " 603.4176336545164,\n",
       " 700.9216863860871,\n",
       " 814.1810630738088,\n",
       " 945.7416090031759,\n",
       " 1098.5605433061178,\n",
       " 1276.0729313591828,\n",
       " 1482.2688982138955,\n",
       " 1721.7833186634696]"
      ]
     },
     "execution_count": 39,
     "metadata": {},
     "output_type": "execute_result"
    }
   ],
   "source": [
    "alphas"
   ]
  },
  {
   "cell_type": "code",
   "execution_count": 40,
   "metadata": {},
   "outputs": [
    {
     "data": {
      "text/plain": [
       "GridSearchCV(cv=20, error_score='raise-deprecating',\n",
       "       estimator=Ridge(alpha=1.0, copy_X=True, fit_intercept=True, max_iter=None,\n",
       "   normalize=False, random_state=None, solver='auto', tol=0.001),\n",
       "       fit_params=None, iid='warn', n_jobs=5,\n",
       "       param_grid=[{'alpha': [100.00000000000004, 116.15863496415427, 134.9282847673564, 156.730853766308, 182.05642030260807, 211.47425268811287, 245.64560522315816, 285.33858187665567, 331.4454017339988, 385.0024543056701, 447.213595499958, 519.4772079068655, 603.4176336545164, 700.9216863860871, 814.1810630738088, 945.7416090031759, 1098.5605433061178, 1276.0729313591828, 1482.2688982138955, 1721.7833186634696]}],\n",
       "       pre_dispatch='2*n_jobs', refit=True, return_train_score='warn',\n",
       "       scoring='neg_mean_squared_error', verbose=0)"
      ]
     },
     "execution_count": 40,
     "metadata": {},
     "output_type": "execute_result"
    }
   ],
   "source": [
    "model = Ridge()\n",
    "param_grid = [{'alpha': alphas}]\n",
    "grid_search = GridSearchCV(model, param_grid, cv=20,\n",
    "                          scoring='neg_mean_squared_error',\n",
    "                          n_jobs=5)\n",
    "grid_search.fit(ins, outs)"
   ]
  },
  {
   "cell_type": "code",
   "execution_count": 41,
   "metadata": {},
   "outputs": [],
   "source": [
    "stats = grid_search.cv_results_\n",
    "scores = np.sqrt(-stats[\"mean_test_score\"])"
   ]
  },
  {
   "cell_type": "code",
   "execution_count": 43,
   "metadata": {},
   "outputs": [
    {
     "data": {
      "image/png": "[encoded data removed]",
      "text/plain": [
       "<Figure size 432x288 with 1 Axes>"
      ]
     },
     "metadata": {
      "needs_background": "light"
     },
     "output_type": "display_data"
    }
   ],
   "source": [
    "fig = plt.figure()\n",
    "plt.plot(alphas, scores, 'g')\n",
    "ax = fig.axes[0]\n",
    "#ax.set_xscale('log')"
   ]
  },
  {
   "cell_type": "markdown",
   "metadata": {},
   "source": [
    "## Grid Search with Elastic Net"
   ]
  },
  {
   "cell_type": "code",
   "execution_count": 89,
   "metadata": {},
   "outputs": [],
   "source": [
    "base = 2\n",
    "steps = 20\n",
    "bottom = -10\n",
    "top = math.log(2, base)\n",
    "exps = np.arange(bottom, top, (top-bottom)/steps)\n",
    "alphas = [np.power(base, ex) for ex in exps]"
   ]
  },
  {
   "cell_type": "code",
   "execution_count": 90,
   "metadata": {},
   "outputs": [],
   "source": [
    "l1_ratios = np.arange(0.1, 1, .1)"
   ]
  },
  {
   "cell_type": "code",
   "execution_count": 91,
   "metadata": {},
   "outputs": [
    {
     "data": {
      "text/plain": [
       "[0.0009765625,\n",
       " 0.0014297711874469005,\n",
       " 0.0020933075440161997,\n",
       " 0.003064781632409187,\n",
       " 0.004487102949207177,\n",
       " 0.006569503244169661,\n",
       " 0.009618315729257186,\n",
       " 0.01408203847829427,\n",
       " 0.020617311105826555,\n",
       " 0.030185510278901557,\n",
       " 0.04419417382415944,\n",
       " 0.06470405774008645,\n",
       " 0.09473228540690044,\n",
       " 0.13869618400848152,\n",
       " 0.20306309908906028,\n",
       " 0.2973017787506825,\n",
       " 0.4352752816480655,\n",
       " 0.6372803136596364,\n",
       " 0.9330329915368157,\n",
       " 1.3660402567544083]"
      ]
     },
     "execution_count": 91,
     "metadata": {},
     "output_type": "execute_result"
    }
   ],
   "source": [
    "alphas"
   ]
  },
  {
   "cell_type": "code",
   "execution_count": 50,
   "metadata": {},
   "outputs": [
    {
     "data": {
      "text/plain": [
       "array([0.1, 0.2, 0.3, 0.4, 0.5, 0.6, 0.7, 0.8, 0.9])"
      ]
     },
     "execution_count": 50,
     "metadata": {},
     "output_type": "execute_result"
    }
   ],
   "source": [
    "l1_ratios"
   ]
  },
  {
   "cell_type": "code",
   "execution_count": 92,
   "metadata": {},
   "outputs": [
    {
     "data": {
      "text/plain": [
       "GridSearchCV(cv=20, error_score='raise-deprecating',\n",
       "       estimator=ElasticNet(alpha=1.0, copy_X=True, fit_intercept=True, l1_ratio=0.5,\n",
       "      max_iter=1000, normalize=False, positive=False, precompute=False,\n",
       "      random_state=None, selection='cyclic', tol=0.0001, warm_start=False),\n",
       "       fit_params=None, iid='warn', n_jobs=6,\n",
       "       param_grid=[{'alpha': [0.0009765625, 0.0014297711874469005, 0.0020933075440161997, 0.003064781632409187, 0.004487102949207177, 0.006569503244169661, 0.009618315729257186, 0.01408203847829427, 0.020617311105826555, 0.030185510278901557, 0.04419417382415944, 0.06470405774008645, 0.09473228540690044, 0...29915368157, 1.3660402567544083], 'l1_ratio': array([0.1, 0.2, 0.3, 0.4, 0.5, 0.6, 0.7, 0.8, 0.9])}],\n",
       "       pre_dispatch='2*n_jobs', refit=True, return_train_score='warn',\n",
       "       scoring='neg_mean_squared_error', verbose=0)"
      ]
     },
     "execution_count": 92,
     "metadata": {},
     "output_type": "execute_result"
    }
   ],
   "source": [
    "model = ElasticNet()\n",
    "param_grid = [{'alpha': alphas, 'l1_ratio': l1_ratios}]\n",
    "grid_search = GridSearchCV(model, param_grid, cv=20,\n",
    "                          scoring='neg_mean_squared_error',\n",
    "                          n_jobs=6)\n",
    "grid_search.fit(ins, outs)"
   ]
  },
  {
   "cell_type": "code",
   "execution_count": 93,
   "metadata": {},
   "outputs": [
    {
     "data": {
      "text/plain": [
       "{'alpha': 0.020617311105826555, 'l1_ratio': 0.1}"
      ]
     },
     "execution_count": 93,
     "metadata": {},
     "output_type": "execute_result"
    }
   ],
   "source": [
    "grid_search.best_params_"
   ]
  },
  {
   "cell_type": "code",
   "execution_count": 55,
   "metadata": {},
   "outputs": [
    {
     "data": {
      "text/plain": [
       "array([0.1, 0.2, 0.3, 0.4, 0.5, 0.6, 0.7, 0.8, 0.9])"
      ]
     },
     "execution_count": 55,
     "metadata": {},
     "output_type": "execute_result"
    }
   ],
   "source": [
    "l1_ratios"
   ]
  },
  {
   "cell_type": "code",
   "execution_count": 66,
   "metadata": {},
   "outputs": [
    {
     "data": {
      "text/plain": [
       "[0.0001,\n",
       " 0.00019952623149688788,\n",
       " 0.0003981071705534969,\n",
       " 0.0007943282347242806,\n",
       " 0.0015848931924611108,\n",
       " 0.003162277660168373,\n",
       " 0.006309573444801917,\n",
       " 0.012589254117941637,\n",
       " 0.025118864315095718,\n",
       " 0.05011872336272705,\n",
       " 0.09999999999999959,\n",
       " 0.19952623149688706,\n",
       " 0.3981071705534953,\n",
       " 0.7943282347242773,\n",
       " 1.5848931924611045,\n",
       " 3.16227766016836,\n",
       " 6.309573444801892,\n",
       " 12.589254117941584,\n",
       " 25.118864315095617,\n",
       " 50.11872336272684]"
      ]
     },
     "execution_count": 66,
     "metadata": {},
     "output_type": "execute_result"
    }
   ],
   "source": [
    "alphas"
   ]
  },
  {
   "cell_type": "code",
   "execution_count": 94,
   "metadata": {},
   "outputs": [],
   "source": [
    "stats = grid_search.cv_results_\n",
    "l1s = stats['param_l1_ratio'].data.reshape(len(alphas), len(l1_ratios))\n",
    "als = stats['param_alpha'].data.reshape(len(alphas), len(l1_ratios))\n",
    "rmses = np.sqrt(-stats[\"mean_test_score\"]).reshape(len(alphas), len(l1_ratios))"
   ]
  },
  {
   "cell_type": "code",
   "execution_count": 76,
   "metadata": {},
   "outputs": [
    {
     "data": {
      "text/plain": [
       "array([[0.26411528, 0.25001718, 0.23887708, 0.22994041, 0.22255583,\n",
       "        0.21648603, 0.21127847, 0.20659275, 0.20235883],\n",
       "       [0.24717535, 0.22830467, 0.21546124, 0.20585177, 0.19813156,\n",
       "        0.19199325, 0.18679215, 0.18258198, 0.17906187],\n",
       "       [0.22530016, 0.20438533, 0.19116217, 0.18208341, 0.17552571,\n",
       "        0.17038071, 0.16623802, 0.16302149, 0.16046266],\n",
       "       [0.2017383 , 0.18108492, 0.16989032, 0.16274906, 0.15833974,\n",
       "        0.1554649 , 0.15311441, 0.15122257, 0.14945652],\n",
       "       [0.17924167, 0.16218885, 0.15519072, 0.15105715, 0.14766011,\n",
       "        0.1447704 , 0.14287076, 0.1417288 , 0.14103418],\n",
       "       [0.16115043, 0.15070349, 0.14459068, 0.14160712, 0.14039534,\n",
       "        0.13985411, 0.13972397, 0.13971469, 0.14004602],\n",
       "       [0.15001557, 0.14135811, 0.13979177, 0.13975284, 0.14085417,\n",
       "        0.14326917, 0.14608257, 0.1487643 , 0.15121528],\n",
       "       [0.1409168 , 0.13983647, 0.14334207, 0.14876836, 0.15346628,\n",
       "        0.15730415, 0.16025084, 0.16252881, 0.16446421],\n",
       "       [0.14001061, 0.14881625, 0.15720528, 0.1623966 , 0.16577282,\n",
       "        0.16869928, 0.17125531, 0.17359664, 0.17588365],\n",
       "       [0.14893811, 0.16219506, 0.16861304, 0.17358952, 0.17821842,\n",
       "        0.18283506, 0.18730978, 0.19139077, 0.19529402],\n",
       "       [0.16191412, 0.17362278, 0.18284316, 0.19150126, 0.19931928,\n",
       "        0.20716119, 0.21551748, 0.22403391, 0.2320219 ],\n",
       "       [0.17382307, 0.19185209, 0.20783143, 0.22446238, 0.23864849,\n",
       "        0.24112068, 0.24112068, 0.24112068, 0.24112068],\n",
       "       [0.19264804, 0.22532473, 0.24112068, 0.24112068, 0.24112068,\n",
       "        0.24112068, 0.24112068, 0.24112068, 0.24112068],\n",
       "       [0.22677603, 0.24112068, 0.24112068, 0.24112068, 0.24112068,\n",
       "        0.24112068, 0.24112068, 0.24112068, 0.24112068],\n",
       "       [0.24112068, 0.24112068, 0.24112068, 0.24112068, 0.24112068,\n",
       "        0.24112068, 0.24112068, 0.24112068, 0.24112068],\n",
       "       [0.24112068, 0.24112068, 0.24112068, 0.24112068, 0.24112068,\n",
       "        0.24112068, 0.24112068, 0.24112068, 0.24112068],\n",
       "       [0.24112068, 0.24112068, 0.24112068, 0.24112068, 0.24112068,\n",
       "        0.24112068, 0.24112068, 0.24112068, 0.24112068],\n",
       "       [0.24112068, 0.24112068, 0.24112068, 0.24112068, 0.24112068,\n",
       "        0.24112068, 0.24112068, 0.24112068, 0.24112068],\n",
       "       [0.24112068, 0.24112068, 0.24112068, 0.24112068, 0.24112068,\n",
       "        0.24112068, 0.24112068, 0.24112068, 0.24112068],\n",
       "       [0.24112068, 0.24112068, 0.24112068, 0.24112068, 0.24112068,\n",
       "        0.24112068, 0.24112068, 0.24112068, 0.24112068]])"
      ]
     },
     "execution_count": 76,
     "metadata": {},
     "output_type": "execute_result"
    }
   ],
   "source": [
    "rmses"
   ]
  },
  {
   "cell_type": "code",
   "execution_count": 95,
   "metadata": {},
   "outputs": [
    {
     "data": {
      "text/plain": [
       "Text(0, 0.5, 'Alpha')"
      ]
     },
     "execution_count": 95,
     "metadata": {},
     "output_type": "execute_result"
    },
    {
     "data": {
      "image/png": "[encoded data removed]",
      "text/plain": [
       "<Figure size 432x432 with 1 Axes>"
      ]
     },
     "metadata": {
      "needs_background": "light"
     },
     "output_type": "display_data"
    }
   ],
   "source": [
    "fig, ax = plt.subplots(figsize=(6,6))\n",
    "ax.imshow(rmses, cmap=\"jet\")\n",
    "ax.set_xticks(np.arange(len(l1_ratios)))\n",
    "ax.set_yticks(np.arange(len(alphas)))\n",
    "ax.set_xticklabels(np.around(l1_ratios, 4), fontsize=12)\n",
    "ax.set_yticklabels(np.around(alphas, 4), fontsize=12)\n",
    "plt.setp(ax.get_xticklabels(), rotation=45, ha='right', rotation_mode='anchor')\n",
    "plt.xlabel('L1 Ratio')\n",
    "plt.ylabel('Alpha')"
   ]
  },
  {
   "cell_type": "code",
   "execution_count": null,
   "metadata": {},
   "outputs": [],
   "source": []
  }
 ],
 "metadata": {
  "kernelspec": {
   "display_name": "Python 3",
   "language": "python",
   "name": "python3"
  },
  "language_info": {
   "codemirror_mode": {
    "name": "ipython",
    "version": 3
   },
   "file_extension": ".py",
   "mimetype": "text/x-python",
   "name": "python",
   "nbconvert_exporter": "python",
   "pygments_lexer": "ipython3",
   "version": "3.5.2"
  }
 },
 "nbformat": 4,
 "nbformat_minor": 2
}
