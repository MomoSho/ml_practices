{
 "cells": [
  {
   "cell_type": "markdown",
   "metadata": {},
   "source": [
    "# K-Means Clustering\n",
    "## CS/DSA 5970"
   ]
  },
  {
   "cell_type": "code",
   "execution_count": null,
   "metadata": {},
   "outputs": [],
   "source": [
    "import pandas as pd\n",
    "import numpy as np\n",
    "import re\n",
    "import matplotlib.pyplot as plt\n",
    "from sklearn.cluster import KMeans\n",
    "import pickle as pkl\n",
    "import random\n",
    "\n",
    "##################\n",
    "# Default parameters\n",
    "FIGURESIZE=(10,6)\n",
    "FONTSIZE=24\n",
    "\n",
    "plt.rcParams['figure.figsize'] = FIGURESIZE\n",
    "plt.rcParams['font.size'] = FONTSIZE\n",
    "\n",
    "plt.rcParams['xtick.labelsize'] = 18\n",
    "plt.rcParams['ytick.labelsize'] = 18"
   ]
  },
  {
   "cell_type": "code",
   "execution_count": null,
   "metadata": {},
   "outputs": [],
   "source": [
    "def scatter_plot(ins, pred=None, centers=None):\n",
    "    fig, ax = plt.subplots(figsize=FIGURESIZE)\n",
    "    \n",
    "    if pred is None:\n",
    "        # Class labels not given: just plot the points in green\n",
    "        ax.plot(ins[:,0], ins[:,1], 'g.')\n",
    "    else:\n",
    "        # Class labels given: assign colors according to this label\n",
    "        ax.scatter(ins[:,0], ins[:,1], c=pred, \n",
    "                   s=3, cmap=plt.cm.rainbow)\n",
    "    \n",
    "    \n",
    "    if centers is not None:\n",
    "        # Cluster centers have also been given: plot these, too\n",
    "        mn = np.min(pred)\n",
    "        mx = np.max(pred)\n",
    "        ax.scatter(centers[:,0], centers[:,1], c=np.arange(mn,mx+1), \n",
    "                   marker='D',\n",
    "                   s=100,\n",
    "                   cmap=plt.cm.rainbow)"
   ]
  },
  {
   "cell_type": "markdown",
   "metadata": {},
   "source": [
    "## Load data"
   ]
  },
  {
   "cell_type": "code",
   "execution_count": null,
   "metadata": {},
   "outputs": [],
   "source": [
    "fname = '../ml_practices/imports/datasets/misc/classification_data.pkl'\n",
    "fp = open(fname, 'rb')\n",
    "ins = pkl.load(fp)\n",
    "#outs = pkl.load(fp)  # Don't need the outs\n",
    "fp.close()"
   ]
  },
  {
   "cell_type": "code",
   "execution_count": null,
   "metadata": {},
   "outputs": [],
   "source": []
  },
  {
   "cell_type": "markdown",
   "metadata": {},
   "source": [
    "## K-Means Model"
   ]
  },
  {
   "cell_type": "code",
   "execution_count": null,
   "metadata": {},
   "outputs": [],
   "source": []
  },
  {
   "cell_type": "code",
   "execution_count": null,
   "metadata": {},
   "outputs": [],
   "source": []
  },
  {
   "cell_type": "code",
   "execution_count": null,
   "metadata": {},
   "outputs": [],
   "source": []
  },
  {
   "cell_type": "code",
   "execution_count": null,
   "metadata": {},
   "outputs": [],
   "source": []
  },
  {
   "cell_type": "markdown",
   "metadata": {},
   "source": [
    "## Arrow Data Set\n"
   ]
  },
  {
   "cell_type": "code",
   "execution_count": null,
   "metadata": {},
   "outputs": [],
   "source": [
    "t = np.arange(-1, 1, .001)\n",
    "x1 = [0.02*random.uniform(-1,1) if (v < .5 and v > -.5) \n",
    "      else 2*(1+v)*random.uniform(-1,1) if v <= -.5 \n",
    "      else 2*(-.5+v)*random.uniform(-1,1) for v in t]\n",
    "x0 = t\n",
    "x2 = np.cos(t*5+1.5)\n",
    "\n",
    "x0 = np.array([x0])\n",
    "x1 = np.array([x1])\n",
    "x2 = np.array([x2])\n",
    "x = np.concatenate([x0, x1], axis=0).T"
   ]
  },
  {
   "cell_type": "code",
   "execution_count": null,
   "metadata": {},
   "outputs": [],
   "source": []
  },
  {
   "cell_type": "code",
   "execution_count": null,
   "metadata": {},
   "outputs": [],
   "source": []
  },
  {
   "cell_type": "code",
   "execution_count": null,
   "metadata": {},
   "outputs": [],
   "source": []
  },
  {
   "cell_type": "code",
   "execution_count": null,
   "metadata": {},
   "outputs": [],
   "source": []
  }
 ],
 "metadata": {
  "kernelspec": {
   "display_name": "Python 3",
   "language": "python",
   "name": "python3"
  },
  "language_info": {
   "codemirror_mode": {
    "name": "ipython",
    "version": 3
   },
   "file_extension": ".py",
   "mimetype": "text/x-python",
   "name": "python",
   "nbconvert_exporter": "python",
   "pygments_lexer": "ipython3",
   "version": "3.5.2"
  }
 },
 "nbformat": 4,
 "nbformat_minor": 2
}
