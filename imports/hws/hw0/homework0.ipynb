{
 "cells": [
  {
   "cell_type": "markdown",
   "metadata": {},
   "source": [
    "# Homework 0\n",
    "\n",
    "### Objectives\n",
    "* Get set up on Jupyter\n",
    "* Basic python operations\n",
    "* Do not save work within the ml_practices folder\n",
    "  + Create a folder for your homework assignments within your home directory and copy hw temples there\n",
    "\n",
    "### General References\n",
    "* [Python Built-in Functions](https://docs.python.org/3/library/functions.html)\n",
    "* [Python Data Structures](https://docs.python.org/3/tutorial/datastructures.html)\n",
    "* Python Lists\n",
    "  + [Reference 1 Lists](https://effbot.org/zone/python-list.htm)\n",
    "  + [Reference 2 Lists](https://python-reference.readthedocs.io/en/latest/docs/list/)\n",
    "* Enumerated Lists\n",
    "  + [Example 1 using enumerate()](https://www.geeksforgeeks.org/enumerate-in-python/)\n",
    "  + [Example 2 using enumerate()](https://www.afternerd.com/blog/python-enumerate/)\n",
    "* [Python Cheat Sheets](https://ehmatthes.github.io/pcc/cheatsheets/README.html)\n"
   ]
  },
  {
   "cell_type": "markdown",
   "metadata": {},
   "source": [
    "## Lists\n",
    "Create small lists using a standard for loop and python's list comprehension syntax"
   ]
  },
  {
   "cell_type": "code",
   "execution_count": null,
   "metadata": {},
   "outputs": [],
   "source": [
    "\"\"\" TODO:\n",
    "Create an empty list, x and populate it with the first \n",
    "15 even numbers, starting at 0, using a standard for \n",
    "loop and the append() function\n",
    "\"\"\"\n",
    "\n",
    "\n",
    "\n",
    "\n",
    "\"\"\" TODO:\n",
    "Create and populate another list, y with the same even \n",
    "values instead using list comprehension\n",
    "\"\"\"\n",
    "\n",
    "\n",
    "\n",
    "\"\"\" TODO:\n",
    "Print the two lists, their lengths and verify they have \n",
    "the same values\n",
    "\"\"\"\n",
    "\n"
   ]
  },
  {
   "cell_type": "markdown",
   "metadata": {},
   "source": [
    "### Enumerated Lists"
   ]
  },
  {
   "cell_type": "code",
   "execution_count": null,
   "metadata": {},
   "outputs": [],
   "source": [
    "\"\"\" TODO:\n",
    "Use the enumerate() function to print each element of \n",
    "the list x, alongside its index. For example, output \n",
    "something of a similar form:\n",
    "    x[0]:  0\n",
    "    x[1]:  2\n",
    "    ...\n",
    "You may also refer to the example links referenced above\n",
    "for more details on enumerate().\n",
    "\"\"\"\n",
    "\n"
   ]
  },
  {
   "cell_type": "markdown",
   "metadata": {},
   "source": [
    "### Copying lists\n",
    "In python, the variable used for a list, is actually a reference that points to where the list resides in memory. When using normal assignment sytnax to copy the contents of a list to create another list, both lists will reference the same memory location. Thus, a change to one variable will change both. Copies made using this syntax are refered to as \"shallow\" copies.\n",
    "For example,  \n",
    "```python\n",
    "  L1 = [1 ,3 ,4]  \n",
    "  L2 = L1 # shallow copy  \n",
    "  L2[1] = 55  \n",
    "  print(L1) # the change will be visible in L1 and L2  \n",
    "```\n",
    "To create an independent copy of a list, i.e. a \"deep\" copy, use slicing or the `list()` function. This will designate independent separate memory space for the copied list.  \n",
    "```python\n",
    "  L2 = L1[:]  \n",
    "  L3 = list(L1)  \n",
    "```\n",
    "\n",
    "You may refer to the references on lists provided above."
   ]
  },
  {
   "cell_type": "code",
   "execution_count": null,
   "metadata": {},
   "outputs": [],
   "source": [
    "\"\"\" TODO:\n",
    "Create a shallow copy of x, named x_shallow\n",
    "Changing x_shallow will change the original x list\n",
    "\"\"\" \n",
    "\n",
    "\n",
    "\n",
    "\"\"\" TODO:\n",
    "Create a deep copy of x, named x_deep\n",
    "Changing x_deep will NOT change the original x list\n",
    "\"\"\" \n",
    "\n"
   ]
  },
  {
   "cell_type": "code",
   "execution_count": null,
   "metadata": {},
   "outputs": [],
   "source": [
    "# Simply run this cell\n",
    "x"
   ]
  },
  {
   "cell_type": "code",
   "execution_count": null,
   "metadata": {},
   "outputs": [],
   "source": [
    "# Simply run this cell\n",
    "x_deep[0] = 2002\n",
    "x_deep"
   ]
  },
  {
   "cell_type": "code",
   "execution_count": null,
   "metadata": {},
   "outputs": [],
   "source": [
    "# Simply run this cell\n",
    "# x[0] will still be 0\n",
    "x"
   ]
  },
  {
   "cell_type": "code",
   "execution_count": null,
   "metadata": {},
   "outputs": [],
   "source": [
    "# Simply run this cell\n",
    "x_shallow[0] = 4004\n",
    "x_shallow"
   ]
  },
  {
   "cell_type": "code",
   "execution_count": null,
   "metadata": {},
   "outputs": [],
   "source": [
    "# Simply run this cell\n",
    "# x[0] will be 4004\n",
    "x"
   ]
  },
  {
   "cell_type": "markdown",
   "metadata": {},
   "source": [
    "## Dictionaries\n",
    "Create a simple dictionary, obtain the lists of key-value pairs, keys, and values."
   ]
  },
  {
   "cell_type": "code",
   "execution_count": null,
   "metadata": {},
   "outputs": [],
   "source": [
    "\"\"\" TODO:\n",
    "Create a dictionary with a few entries.\n",
    "\"\"\"\n",
    "\n",
    "\n",
    "# TODO: Simulataneously iterate over the key-value pairs in the dictionary\n",
    "# print them out\n",
    "\n",
    "\n",
    "    \n",
    "# TODO: Only iterate over the keys and print them\n",
    "print(\"Keys:\")\n",
    "\n",
    "\n",
    "    \n",
    "# TODO: Only iterate over the values and print them\n",
    "print(\"Values:\")\n",
    "\n"
   ]
  }
 ],
 "metadata": {
  "kernelspec": {
   "display_name": "Python 3",
   "language": "python",
   "name": "python3"
  },
  "language_info": {
   "codemirror_mode": {
    "name": "ipython",
    "version": 3
   },
   "file_extension": ".py",
   "mimetype": "text/x-python",
   "name": "python",
   "nbconvert_exporter": "python",
   "pygments_lexer": "ipython3",
   "version": "3.7.3"
  }
 },
 "nbformat": 4,
 "nbformat_minor": 2
}
