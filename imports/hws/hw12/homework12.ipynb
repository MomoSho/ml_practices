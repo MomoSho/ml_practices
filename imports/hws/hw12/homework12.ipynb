{
 "cells": [
  {
   "cell_type": "markdown",
   "metadata": {},
   "source": [
    "__NAME:__ __FULLNAME__  \n",
    "__SECTION:__ __NUMBER__  \n",
    "__CS 5970: Machine Learning Practices__\n",
    "\n",
    "# Homework 12: Dimensionality Reduction with Isometric Mapping\n",
    "\n",
    "## Assignment Overview\n",
    "Follow the TODOs and read through and understand any provided code.  \n",
    "For all plots, make sure all necessary axes and curves are clearly and \n",
    "accurately labeled. Include figure/plot titles appropriately as well. Post and questions you may have to the Canvas Discussion.\n",
    "\n",
    "### Task\n",
    "For this assignment you will be exploring dimensionality reduction using IsoMap.\n",
    "IsoMap creates a graph of nearest neighbors whilst attempting to perserve geodesic distances along a manifold.\n",
    "\n",
    "### Data set\n",
    "The data set is synthetic.  \n",
    "File: hw12_isomap_squirrelly_data.csv  \n",
    "This data set has 1000 samples and four columns (index, x0, x1, x2).   \n",
    "Your goal is to predict x2 given x0 and x1 using the LinearRegression model.  \n",
    "\n",
    "\n",
    "### Objectives\n",
    "* Overfitting\n",
    "* Regularization\n",
    "* Dimensionality Reduction with Isomap\n",
    "\n",
    "### Notes\n",
    "* Do not save work within the ml_practices folder\n",
    "\n",
    "### General References\n",
    "* [Guide to Jupyter](https://www.datacamp.com/community/tutorials/tutorial-jupyter-notebook)\n",
    "* [Python Built-in Functions](https://docs.python.org/3/library/functions.html)\n",
    "* [Python Data Structures](https://docs.python.org/3/tutorial/datastructures.html)\n",
    "* [Numpy Reference](https://docs.scipy.org/doc/numpy/reference/index.html)\n",
    "* [Numpy Cheat Sheet](https://s3.amazonaws.com/assets.datacamp.com/blog_assets/Numpy_Python_Cheat_Sheet.pdf)\n",
    "* [Summary of matplotlib](https://matplotlib.org/3.1.1/api/pyplot_summary.html)\n",
    "* [DataCamp: Matplotlib](https://www.datacamp.com/community/tutorials/matplotlib-tutorial-python?utm_source=adwords_ppc&utm_campaignid=1565261270&utm_adgroupid=67750485268&utm_device=c&utm_keyword=&utm_matchtype=b&utm_network=g&utm_adpostion=1t1&utm_creative=332661264365&utm_targetid=aud-299261629574:dsa-473406587955&utm_loc_interest_ms=&utm_loc_physical_ms=9026223&gclid=CjwKCAjw_uDsBRAMEiwAaFiHa8xhgCsO9wVcuZPGjAyVGTitb_-fxYtkBLkQ4E_GjSCZFVCqYCGkphoCjucQAvD_BwE)\n",
    "* [Pandas DataFrames](https://urldefense.proofpoint.com/v2/url?u=https-3A__pandas.pydata.org_pandas-2Ddocs_stable_reference_api_pandas.DataFrame.html&d=DwMD-g&c=qKdtBuuu6dQK9MsRUVJ2DPXW6oayO8fu4TfEHS8sGNk&r=9ngmsG8rSmDSS-O0b_V0gP-nN_33Vr52qbY3KXuDY5k&m=mcOOc8D0knaNNmmnTEo_F_WmT4j6_nUSL_yoPmGlLWQ&s=h7hQjqucR7tZyfZXxnoy3iitIr32YlrqiFyPATkW3lw&e=)\n",
    "* [Sci-kit Learn Linear Models](https://scikit-learn.org/stable/modules/classes.html#module-sklearn.linear_model)\n",
    "* [Sci-kit Learn Ensemble Models](https://scikit-learn.org/stable/modules/classes.html#module-sklearn.ensemble)\n",
    "* [Sci-kit Learn Metrics](https://scikit-learn.org/stable/modules/classes.html#module-sklearn.metrics)\n",
    "* [Sci-kit Learn Model Selection](https://scikit-learn.org/stable/modules/classes.html#module-sklearn.model_selection)\n",
    "* [Sci-kit Learn Pipelines](https://scikit-learn.org/stable/modules/generated/sklearn.pipeline.Pipeline.html)\n",
    "* [Sci-kit Learn Preprocessing](https://scikit-learn.org/stable/modules/classes.html#module-sklearn.preprocessing)"
   ]
  },
  {
   "cell_type": "code",
   "execution_count": null,
   "metadata": {},
   "outputs": [],
   "source": [
    "import sys\n",
    "\n",
    "import pandas as pd\n",
    "import numpy as np\n",
    "import seaborn as sns\n",
    "import scipy.stats as stats\n",
    "import os, re, fnmatch\n",
    "import pathlib, itertools\n",
    "import time as timelib\n",
    "import matplotlib.pyplot as plt\n",
    "import matplotlib.patheffects as peffects\n",
    "\n",
    "from matplotlib import cm\n",
    "# This import registers the 3D projection, but is otherwise unused.\n",
    "from mpl_toolkits.mplot3d import Axes3D\n",
    "from sklearn.pipeline import Pipeline\n",
    "from sklearn.linear_model import LinearRegression\n",
    "from sklearn.base import BaseEstimator, TransformerMixin\n",
    "from sklearn.preprocessing import StandardScaler, PolynomialFeatures\n",
    "from sklearn.model_selection import cross_val_score, cross_val_predict\n",
    "from sklearn.model_selection import train_test_split, GridSearchCV\n",
    "from sklearn.metrics import explained_variance_score, confusion_matrix\n",
    "from sklearn.metrics import mean_squared_error, roc_curve, auc, f1_score\n",
    "from sklearn.externals import joblib\n",
    "from sklearn.manifold import Isomap\n",
    "\n",
    "FIGW = 15\n",
    "FIGH = 4\n",
    "FONTSIZE = 10\n",
    "\n",
    "#plt.rcParams['figure.figsize'] = (FIGW,FIGH)\n",
    "plt.rcParams['font.size'] = FONTSIZE\n",
    "\n",
    "plt.rcParams['xtick.labelsize'] = FONTSIZE\n",
    "plt.rcParams['ytick.labelsize'] = FONTSIZE\n",
    "\n",
    "%matplotlib inline\n",
    "#https://matplotlib.org/3.1.1/tutorials/introductory/images.html\n",
    "plt.style.use('ggplot')"
   ]
  },
  {
   "cell_type": "code",
   "execution_count": null,
   "metadata": {},
   "outputs": [],
   "source": [
    "\"\"\"\n",
    "Display current working directory of this notebook. If you are using \n",
    "relative paths for your data, then it needs to be relative to the CWD.\n",
    "\"\"\"\n",
    "HOME_DIR = pathlib.Path.home()\n",
    "pathlib.Path.cwd()"
   ]
  },
  {
   "cell_type": "markdown",
   "metadata": {},
   "source": [
    "# LOAD DATA"
   ]
  },
  {
   "cell_type": "code",
   "execution_count": null,
   "metadata": {},
   "outputs": [],
   "source": [
    "\"\"\"\n",
    "Load the data\n",
    "\"\"\"\n",
    "data = pd.read_csv('hw12_isomap_squirrelly_data.csv')\n",
    "\n",
    "nrows, ncols = data.shape\n",
    "print(\"%d rows and %d columns\" % (nrows, ncols))"
   ]
  },
  {
   "cell_type": "code",
   "execution_count": null,
   "metadata": {},
   "outputs": [],
   "source": [
    "\"\"\" TODO\n",
    "Seperate the feature inputs from the predicted output\n",
    "x0 and x1 are the inputs\n",
    "x2 is the output we want to predict\n",
    "\"\"\"\n",
    "# TODO: Get x0 and x1 as the inputs\n",
    "\n",
    "\n",
    "# TODO: Get x2 as the output\n",
    "\n"
   ]
  },
  {
   "cell_type": "code",
   "execution_count": null,
   "metadata": {},
   "outputs": [],
   "source": [
    "\"\"\" PROVIDED\n",
    "Visualize the data\n",
    "\"\"\"\n",
    "# Position along the manifold\n",
    "pos = np.arange(0, 1, .001)\n",
    "\n",
    "fig = plt.figure(figsize=(FIGW,20)) #plt.figaspect(0.5))\n",
    "\n",
    "# 3D View\n",
    "ax0 = fig.add_subplot(3, 1, 1, projection='3d')\n",
    "ax0.scatter(X['x0'], X['x1'], x2)\n",
    "ax0.set(xlabel='x0', ylabel='x1', zlabel='x2')\n",
    "ax0.set_title('3D View')\n",
    "\n",
    "# Top Down View\n",
    "ax1 = fig.add_subplot(3, 1, 2)\n",
    "ax1.plot(X['x0'], X['x1'], 'm.')\n",
    "ax1.set(xlabel='x0', ylabel='x1')\n",
    "ax1.set_title('Top Down View')\n",
    "\n",
    "# View Along the Data Manifold\n",
    "ax2 = fig.add_subplot(3, 1, 3)\n",
    "ax2.plot(pos, x2, 'b.')\n",
    "ax2.set(ylabel='x2')\n",
    "ax2.set_title('View Along the Manifold')"
   ]
  },
  {
   "cell_type": "code",
   "execution_count": null,
   "metadata": {},
   "outputs": [],
   "source": [
    "\"\"\" PROVIDED\n",
    "The unnamed column is the row index\n",
    "\"\"\"\n",
    "data.head(3)"
   ]
  },
  {
   "cell_type": "markdown",
   "metadata": {},
   "source": [
    "### PRELIMINARY DISCUSSION\n",
    "Describe the behavior of these data in 3 to 4 sentences."
   ]
  },
  {
   "cell_type": "markdown",
   "metadata": {},
   "source": [
    "# LINEAR REGRESSION"
   ]
  },
  {
   "cell_type": "code",
   "execution_count": null,
   "metadata": {},
   "outputs": [],
   "source": [
    "\"\"\" TODO\n",
    "Fit a linear model using X as the input\n",
    "and the position along the manifold, the variable pos, as the output\n",
    "\"\"\"\n",
    "# TODO: create and fit the linear model. The output is pos\n",
    "lnr = # TODO\n",
    "\n",
    "\n",
    "# TODO: predict the positions from the original input X with the linear model\n",
    "pos_preds = # TODO: predict\n",
    "\n",
    "# TODO: Show the results. compare the true positions to the predictions\n",
    "fig, ax = plt.subplots(figsize=(FIGW,FIGH))\n",
    "ax.plot(pos, ''' TODO ''', 'b', label='True Position')\n",
    "ax.plot(pos, ''' TODO ''', 'r', label='Prediction')\n",
    "ax.set(xlabel='Position', ylabel='Output')\n",
    "ax.legend()"
   ]
  },
  {
   "cell_type": "markdown",
   "metadata": {},
   "source": [
    "# ISOMAP"
   ]
  },
  {
   "cell_type": "code",
   "execution_count": null,
   "metadata": {},
   "outputs": [],
   "source": [
    "\"\"\" TODO\n",
    "Fit an IsoMap object to the input data X, which contains the \n",
    "features x0 and x1\n",
    "Use the IsoMap object to transform the input data\n",
    "try small values, less than 10, for the number of neighbors and \n",
    "think about reasonable values for n_components based on the data\n",
    "\"\"\"\n",
    "# TODO: create and fit an IsoMap object \n",
    "isomap = # TODO\n",
    "\n",
    "\n",
    "# TODO: transform the inputs with the IsoMap object\n",
    "Xmap = # TODO\n",
    "\n",
    "# Plot the result overlaying the True Positions\n",
    "# with the IsoMap transformed features\n",
    "fig, ax = plt.subplots(figsize=(FIGW,FIGH))\n",
    "ax.plot(pos, 'b', label='True Position')\n",
    "ax.plot(Xmap, 'r', label='Mapping')\n",
    "ax.legend()"
   ]
  },
  {
   "cell_type": "code",
   "execution_count": null,
   "metadata": {},
   "outputs": [],
   "source": [
    "\"\"\" TODO\n",
    "Fit another linear regression model on the\n",
    "isomap transformed inputs and the position \n",
    "along the manifold, the variable pos, as the output\n",
    "\"\"\"\n",
    "# TODO: Create and fit the model to the IsoMap features\n",
    "lnr_isomap = # TODO\n",
    "\n",
    "\n",
    "# TODO: predict the positions from the IsoMap features, with the linear model\n",
    "pos_preds_isomap = # TODO\n",
    "\n",
    "# TODO: Show the prediction results, overlayed with the true positions\n",
    "\n"
   ]
  },
  {
   "cell_type": "markdown",
   "metadata": {},
   "source": [
    "# POLYNOMIAL FEATURES"
   ]
  },
  {
   "cell_type": "code",
   "execution_count": null,
   "metadata": {},
   "outputs": [],
   "source": [
    "\"\"\" TODO\n",
    "Construct polynomial expanded features from the original X input\n",
    "using PolynomialFeatures. Play with a few values for the degree \n",
    "between 2 and 6, and set include_bias to True\n",
    "\n",
    "Fit another linear regression model from the polynomial expanded\n",
    "features as input and the position along the manifold, the variable \n",
    "pos, as the output\n",
    "\"\"\"\n",
    "# TODO: Construct the polynomial features from the original inputs\n",
    "poly_features1 = # TODO\n",
    "Xpoly = # TODO: transform the original inputs\n",
    "\n",
    "# TODO: Fit the model to the polynomial features\n",
    "lnr_poly = # TODO: create and fit the model\n",
    "pos_preds_poly = # TODO: predict using the polynomial transformed features\n",
    "\n",
    "# TODO: Show the results. compare the true positions to the predictions\n",
    "\n"
   ]
  },
  {
   "cell_type": "code",
   "execution_count": null,
   "metadata": {},
   "outputs": [],
   "source": [
    "\"\"\" TODO\n",
    "Construct polynomial features from the IsoMap transformed\n",
    "input features\n",
    "\n",
    "Fit another linear regression model from these features as input\n",
    "and the position along the manifold, the variable pos, as the output\n",
    "\"\"\"\n",
    "# TODO: Construct the polynomial features from the IsoMap inputs\n",
    "poly_features2 = # TODO\n",
    "Xmap_poly = # TODO: transform the Isoap features\n",
    "\n",
    "# TODO: Fit the model to the polynomial IsoMap features\n",
    "lnr_iso_poly = # TODO: create anf fit linear model\n",
    "pos_preds_iso_poly = # TODO: predict with the poly-isomap features\n",
    "\n",
    "# TODO: Show the results. Compare position to the predicted output\n",
    "\n"
   ]
  },
  {
   "cell_type": "markdown",
   "metadata": {},
   "source": [
    "# PREDICITON"
   ]
  },
  {
   "cell_type": "markdown",
   "metadata": {},
   "source": [
    "### LinearRegression Benchmark\n",
    "In the previous section, we were trying to predict the position along the manifold from various forms of the inputs. Now you will try to predict actual position in 3D space, x2."
   ]
  },
  {
   "cell_type": "code",
   "execution_count": null,
   "metadata": {},
   "outputs": [],
   "source": [
    "\"\"\" TODO\n",
    "Fit a linear regression model that predicts x2 from the original x0 and x1\n",
    "output is x2\n",
    "\"\"\"\n",
    "# TODO: Fit the model to the original features. The output is x2\n",
    "lnr = # TODO\n",
    "x2preds = # TODO: compute the predictions from X\n",
    "\n",
    "# TODO: Show the results. Compare the predicitons to the true x2\n",
    "\n",
    "\n",
    "\n",
    "# TODO: Compute the training/prediction error. Use mean_squared_error()\n",
    "\n"
   ]
  },
  {
   "cell_type": "markdown",
   "metadata": {},
   "source": [
    "### IsoMap LinearRegression"
   ]
  },
  {
   "cell_type": "code",
   "execution_count": null,
   "metadata": {},
   "outputs": [],
   "source": [
    "\"\"\" TODO\n",
    "Fit a linear regression model to predict x2 from the IsoMap\n",
    "transformed versions of x0 and x; output is x2\n",
    "\"\"\"\n",
    "# TODO: Fit the model to the IsoMap features computed above. output is x2\n",
    "lnr_isomap = # TODO: Create and fit the model\n",
    "x2preds_isomap = # TODO: predict with the IsoMap features\n",
    "\n",
    "# TODO: Show the results. Compare the predicitons to the true x2\n",
    "\n",
    "\n",
    "# TODO: Compute the training/prediction error. Use mean_squared_error()\n",
    "\n"
   ]
  },
  {
   "cell_type": "markdown",
   "metadata": {},
   "source": [
    "### PolynomialFeatures LinearRegression"
   ]
  },
  {
   "cell_type": "code",
   "execution_count": null,
   "metadata": {},
   "outputs": [],
   "source": [
    "\"\"\" TODO\n",
    "Fit a linear regression model to predict x2 from the polynomially\n",
    "expanded features; output is x2\n",
    "\"\"\"\n",
    "# TODO: Construct the polynomial features from the original inputs\n",
    "poly_features1 = # TODO: \n",
    "Xpoly = # TODO: construct the polynomial expansion of the original inputs\n",
    "print(Xpoly.shape)\n",
    "\n",
    "# TODO: Fit the model to the polynomial features. output is x2\n",
    "lnr_poly = # TODO: Create and fit linear model\n",
    "x2preds_poly = # TODO: predict using the polynomial features\n",
    "\n",
    "# TODO: Show the results. Compare the predictions to the true x2\n",
    "\n",
    "\n",
    "\n",
    "# TODO: Compute the training error\n",
    "\n"
   ]
  },
  {
   "cell_type": "markdown",
   "metadata": {},
   "source": [
    "### IsoMap Polynomial Features LinearRegression"
   ]
  },
  {
   "cell_type": "code",
   "execution_count": null,
   "metadata": {},
   "outputs": [],
   "source": [
    "\"\"\" TODO\n",
    "Fit a linear regression model to predict x2 from the polynomially\n",
    "expanded IsoMap transformed features; output is x2\n",
    "\"\"\"\n",
    "# TODO: Construct the polynomial features from the IsoMap inputs\n",
    "poly_features2 = # TODO\n",
    "Xmap_poly = # TODO: transform the IsoMap features\n",
    "\n",
    "# TODO: Fit the model to the polynomial IsoMap features. output is x2\n",
    "lnr_iso_poly = # TODO: create and fit model\n",
    "x2preds_iso_poly = # TODO: predict from polynomial IsoMap features\n",
    "\n",
    "# TODO: Show the results. Compare true x2 to the predictions\n",
    "\n",
    "\n",
    "# TODO: Compute the training error\n",
    "\n"
   ]
  },
  {
   "cell_type": "markdown",
   "metadata": {},
   "source": [
    "# DISCUSSION\n",
    "In several paragraphs, compare the performance of each of the Linear Regression models explored within the PREDICTION section. List the models in order of the quality of the predictions (1 being the model with the best quality). Is the model with the best quality perfect? Please be clear and concise in your explanation. "
   ]
  },
  {
   "cell_type": "code",
   "execution_count": null,
   "metadata": {},
   "outputs": [],
   "source": []
  }
 ],
 "metadata": {
  "kernelspec": {
   "display_name": "Python 3",
   "language": "python",
   "name": "python3"
  },
  "language_info": {
   "codemirror_mode": {
    "name": "ipython",
    "version": 3
   },
   "file_extension": ".py",
   "mimetype": "text/x-python",
   "name": "python",
   "nbconvert_exporter": "python",
   "pygments_lexer": "ipython3",
   "version": "3.7.3"
  }
 },
 "nbformat": 4,
 "nbformat_minor": 2
}
